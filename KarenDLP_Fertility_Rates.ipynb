{
 "cells": [
  {
   "cell_type": "code",
   "execution_count": 3,
   "id": "9cb5a105",
   "metadata": {},
   "outputs": [],
   "source": [
    "import pandas as pd\n",
    "import numpy as np\n",
    "import matplotlib.pyplot as plt\n",
    "import seaborn as sns"
   ]
  },
  {
   "cell_type": "code",
   "execution_count": 11,
   "id": "109b5710",
   "metadata": {},
   "outputs": [
    {
     "data": {
      "text/html": [
       "<div>\n",
       "<style scoped>\n",
       "    .dataframe tbody tr th:only-of-type {\n",
       "        vertical-align: middle;\n",
       "    }\n",
       "\n",
       "    .dataframe tbody tr th {\n",
       "        vertical-align: top;\n",
       "    }\n",
       "\n",
       "    .dataframe thead th {\n",
       "        text-align: right;\n",
       "    }\n",
       "</style>\n",
       "<table border=\"1\" class=\"dataframe\">\n",
       "  <thead>\n",
       "    <tr style=\"text-align: right;\">\n",
       "      <th></th>\n",
       "      <th>Index</th>\n",
       "      <th>Variant</th>\n",
       "      <th>Major area, region, country or area *</th>\n",
       "      <th>Notes</th>\n",
       "      <th>Country code</th>\n",
       "      <th>Total fertility (children per woman)</th>\n",
       "      <th>Unnamed: 6</th>\n",
       "      <th>Unnamed: 7</th>\n",
       "      <th>Unnamed: 8</th>\n",
       "      <th>Unnamed: 9</th>\n",
       "      <th>Unnamed: 10</th>\n",
       "      <th>Unnamed: 11</th>\n",
       "      <th>Unnamed: 12</th>\n",
       "      <th>Unnamed: 13</th>\n",
       "      <th>Unnamed: 14</th>\n",
       "    </tr>\n",
       "  </thead>\n",
       "  <tbody>\n",
       "    <tr>\n",
       "      <th>0</th>\n",
       "      <td>NaN</td>\n",
       "      <td>NaN</td>\n",
       "      <td>NaN</td>\n",
       "      <td>NaN</td>\n",
       "      <td>NaN</td>\n",
       "      <td>2000-2005</td>\n",
       "      <td>2005-2010</td>\n",
       "      <td>2010-2015</td>\n",
       "      <td>2015-2020</td>\n",
       "      <td>2020-2025</td>\n",
       "      <td>2025-2030</td>\n",
       "      <td>2030-2035</td>\n",
       "      <td>2035-2040</td>\n",
       "      <td>2040-2045</td>\n",
       "      <td>2045-2050</td>\n",
       "    </tr>\n",
       "    <tr>\n",
       "      <th>1</th>\n",
       "      <td>1.0</td>\n",
       "      <td>Medium</td>\n",
       "      <td>WORLD</td>\n",
       "      <td>NaN</td>\n",
       "      <td>900.0</td>\n",
       "      <td>2.682</td>\n",
       "      <td>2.585</td>\n",
       "      <td>2.496</td>\n",
       "      <td>2.435</td>\n",
       "      <td>2.394</td>\n",
       "      <td>2.34</td>\n",
       "      <td>2.283</td>\n",
       "      <td>2.235</td>\n",
       "      <td>2.196</td>\n",
       "      <td>2.148</td>\n",
       "    </tr>\n",
       "    <tr>\n",
       "      <th>2</th>\n",
       "      <td>2.0</td>\n",
       "      <td>Medium</td>\n",
       "      <td>More developed regions</td>\n",
       "      <td>a</td>\n",
       "      <td>901.0</td>\n",
       "      <td>1.502</td>\n",
       "      <td>1.498</td>\n",
       "      <td>1.522</td>\n",
       "      <td>1.578</td>\n",
       "      <td>1.646</td>\n",
       "      <td>1.726</td>\n",
       "      <td>1.801</td>\n",
       "      <td>1.86</td>\n",
       "      <td>1.903</td>\n",
       "      <td>1.924</td>\n",
       "    </tr>\n",
       "    <tr>\n",
       "      <th>3</th>\n",
       "      <td>3.0</td>\n",
       "      <td>Medium</td>\n",
       "      <td>Less developed regions</td>\n",
       "      <td>b</td>\n",
       "      <td>902.0</td>\n",
       "      <td>2.922</td>\n",
       "      <td>2.785</td>\n",
       "      <td>2.658</td>\n",
       "      <td>2.562</td>\n",
       "      <td>2.493</td>\n",
       "      <td>2.414</td>\n",
       "      <td>2.336</td>\n",
       "      <td>2.275</td>\n",
       "      <td>2.225</td>\n",
       "      <td>2.169</td>\n",
       "    </tr>\n",
       "    <tr>\n",
       "      <th>4</th>\n",
       "      <td>4.0</td>\n",
       "      <td>Medium</td>\n",
       "      <td>Least developed countries</td>\n",
       "      <td>c</td>\n",
       "      <td>941.0</td>\n",
       "      <td>5.242</td>\n",
       "      <td>4.932</td>\n",
       "      <td>4.567</td>\n",
       "      <td>4.232</td>\n",
       "      <td>3.903</td>\n",
       "      <td>3.581</td>\n",
       "      <td>3.302</td>\n",
       "      <td>3.039</td>\n",
       "      <td>2.775</td>\n",
       "      <td>2.513</td>\n",
       "    </tr>\n",
       "    <tr>\n",
       "      <th>...</th>\n",
       "      <td>...</td>\n",
       "      <td>...</td>\n",
       "      <td>...</td>\n",
       "      <td>...</td>\n",
       "      <td>...</td>\n",
       "      <td>...</td>\n",
       "      <td>...</td>\n",
       "      <td>...</td>\n",
       "      <td>...</td>\n",
       "      <td>...</td>\n",
       "      <td>...</td>\n",
       "      <td>...</td>\n",
       "      <td>...</td>\n",
       "      <td>...</td>\n",
       "      <td>...</td>\n",
       "    </tr>\n",
       "    <tr>\n",
       "      <th>216</th>\n",
       "      <td>252.0</td>\n",
       "      <td>Medium</td>\n",
       "      <td>French Polynesia</td>\n",
       "      <td>NaN</td>\n",
       "      <td>258.0</td>\n",
       "      <td>2.47</td>\n",
       "      <td>2.32</td>\n",
       "      <td>2.18</td>\n",
       "      <td>2.1</td>\n",
       "      <td>2.1</td>\n",
       "      <td>2.1</td>\n",
       "      <td>2.1</td>\n",
       "      <td>2.1</td>\n",
       "      <td>2.1</td>\n",
       "      <td>2.1</td>\n",
       "    </tr>\n",
       "    <tr>\n",
       "      <th>217</th>\n",
       "      <td>255.0</td>\n",
       "      <td>Medium</td>\n",
       "      <td>Samoa</td>\n",
       "      <td>NaN</td>\n",
       "      <td>882.0</td>\n",
       "      <td>4.24</td>\n",
       "      <td>3.99</td>\n",
       "      <td>3.71</td>\n",
       "      <td>3.4</td>\n",
       "      <td>3.07</td>\n",
       "      <td>2.7</td>\n",
       "      <td>2.31</td>\n",
       "      <td>2.1</td>\n",
       "      <td>2.1</td>\n",
       "      <td>2.1</td>\n",
       "    </tr>\n",
       "    <tr>\n",
       "      <th>218</th>\n",
       "      <td>300.0</td>\n",
       "      <td>Medium</td>\n",
       "      <td>Less developed regions excluding China</td>\n",
       "      <td>NaN</td>\n",
       "      <td>948.0</td>\n",
       "      <td>3.351</td>\n",
       "      <td>3.104</td>\n",
       "      <td>2.886</td>\n",
       "      <td>2.74</td>\n",
       "      <td>2.641</td>\n",
       "      <td>2.534</td>\n",
       "      <td>2.43</td>\n",
       "      <td>2.349</td>\n",
       "      <td>2.286</td>\n",
       "      <td>2.22</td>\n",
       "    </tr>\n",
       "    <tr>\n",
       "      <th>219</th>\n",
       "      <td>301.0</td>\n",
       "      <td>Medium</td>\n",
       "      <td>Less developed regions excluding the least dev...</td>\n",
       "      <td>NaN</td>\n",
       "      <td>934.0</td>\n",
       "      <td>2.592</td>\n",
       "      <td>2.454</td>\n",
       "      <td>2.334</td>\n",
       "      <td>2.247</td>\n",
       "      <td>2.197</td>\n",
       "      <td>2.142</td>\n",
       "      <td>2.086</td>\n",
       "      <td>2.056</td>\n",
       "      <td>2.053</td>\n",
       "      <td>2.053</td>\n",
       "    </tr>\n",
       "    <tr>\n",
       "      <th>220</th>\n",
       "      <td>302.0</td>\n",
       "      <td>Medium</td>\n",
       "      <td>Sub-Saharan Africa</td>\n",
       "      <td>NaN</td>\n",
       "      <td>947.0</td>\n",
       "      <td>5.501</td>\n",
       "      <td>5.168</td>\n",
       "      <td>4.753</td>\n",
       "      <td>4.337</td>\n",
       "      <td>3.931</td>\n",
       "      <td>3.538</td>\n",
       "      <td>3.173</td>\n",
       "      <td>2.886</td>\n",
       "      <td>2.651</td>\n",
       "      <td>2.422</td>\n",
       "    </tr>\n",
       "  </tbody>\n",
       "</table>\n",
       "<p>221 rows × 15 columns</p>\n",
       "</div>"
      ],
      "text/plain": [
       "     Index Variant              Major area, region, country or area * Notes  \\\n",
       "0      NaN     NaN                                                NaN   NaN   \n",
       "1      1.0  Medium                                              WORLD   NaN   \n",
       "2      2.0  Medium                             More developed regions     a   \n",
       "3      3.0  Medium                             Less developed regions     b   \n",
       "4      4.0  Medium                          Least developed countries     c   \n",
       "..     ...     ...                                                ...   ...   \n",
       "216  252.0  Medium                                   French Polynesia   NaN   \n",
       "217  255.0  Medium                                              Samoa   NaN   \n",
       "218  300.0  Medium             Less developed regions excluding China   NaN   \n",
       "219  301.0  Medium  Less developed regions excluding the least dev...   NaN   \n",
       "220  302.0  Medium                                 Sub-Saharan Africa   NaN   \n",
       "\n",
       "     Country code Total fertility (children per woman) Unnamed: 6 Unnamed: 7  \\\n",
       "0             NaN                            2000-2005  2005-2010  2010-2015   \n",
       "1           900.0                                2.682      2.585      2.496   \n",
       "2           901.0                                1.502      1.498      1.522   \n",
       "3           902.0                                2.922      2.785      2.658   \n",
       "4           941.0                                5.242      4.932      4.567   \n",
       "..            ...                                  ...        ...        ...   \n",
       "216         258.0                                 2.47       2.32       2.18   \n",
       "217         882.0                                 4.24       3.99       3.71   \n",
       "218         948.0                                3.351      3.104      2.886   \n",
       "219         934.0                                2.592      2.454      2.334   \n",
       "220         947.0                                5.501      5.168      4.753   \n",
       "\n",
       "    Unnamed: 8 Unnamed: 9 Unnamed: 10 Unnamed: 11 Unnamed: 12 Unnamed: 13  \\\n",
       "0    2015-2020  2020-2025   2025-2030   2030-2035   2035-2040   2040-2045   \n",
       "1        2.435      2.394        2.34       2.283       2.235       2.196   \n",
       "2        1.578      1.646       1.726       1.801        1.86       1.903   \n",
       "3        2.562      2.493       2.414       2.336       2.275       2.225   \n",
       "4        4.232      3.903       3.581       3.302       3.039       2.775   \n",
       "..         ...        ...         ...         ...         ...         ...   \n",
       "216        2.1        2.1         2.1         2.1         2.1         2.1   \n",
       "217        3.4       3.07         2.7        2.31         2.1         2.1   \n",
       "218       2.74      2.641       2.534        2.43       2.349       2.286   \n",
       "219      2.247      2.197       2.142       2.086       2.056       2.053   \n",
       "220      4.337      3.931       3.538       3.173       2.886       2.651   \n",
       "\n",
       "    Unnamed: 14  \n",
       "0     2045-2050  \n",
       "1         2.148  \n",
       "2         1.924  \n",
       "3         2.169  \n",
       "4         2.513  \n",
       "..          ...  \n",
       "216         2.1  \n",
       "217         2.1  \n",
       "218        2.22  \n",
       "219       2.053  \n",
       "220       2.422  \n",
       "\n",
       "[221 rows x 15 columns]"
      ]
     },
     "execution_count": 11,
     "metadata": {},
     "output_type": "execute_result"
    }
   ],
   "source": [
    " pd.read_excel('United Nations Data/WPP2000_EXCEL_FILES/DB01_Period_Indicators/F01_TOTAL_FERTILITY.xls',skiprows=15, sheet_name='MEDIUM')"
   ]
  },
  {
   "cell_type": "code",
   "execution_count": null,
   "id": "3eac7d19",
   "metadata": {},
   "outputs": [],
   "source": []
  },
  {
   "cell_type": "markdown",
   "id": "6c2bc55b",
   "metadata": {},
   "source": [
    "## Review data "
   ]
  },
  {
   "cell_type": "code",
   "execution_count": null,
   "id": "1900dc15",
   "metadata": {},
   "outputs": [],
   "source": []
  },
  {
   "cell_type": "code",
   "execution_count": null,
   "id": "a663957e",
   "metadata": {},
   "outputs": [],
   "source": []
  },
  {
   "cell_type": "code",
   "execution_count": null,
   "id": "f6cc9b24",
   "metadata": {},
   "outputs": [],
   "source": []
  },
  {
   "cell_type": "code",
   "execution_count": null,
   "id": "434eab10",
   "metadata": {},
   "outputs": [],
   "source": []
  },
  {
   "cell_type": "code",
   "execution_count": null,
   "id": "b0497bfb",
   "metadata": {},
   "outputs": [],
   "source": []
  },
  {
   "cell_type": "code",
   "execution_count": null,
   "id": "a941f74a",
   "metadata": {},
   "outputs": [],
   "source": []
  },
  {
   "cell_type": "code",
   "execution_count": null,
   "id": "14df8dbe",
   "metadata": {},
   "outputs": [],
   "source": []
  },
  {
   "cell_type": "code",
   "execution_count": null,
   "id": "367cf148",
   "metadata": {},
   "outputs": [],
   "source": []
  },
  {
   "cell_type": "code",
   "execution_count": null,
   "id": "ea6ae062",
   "metadata": {},
   "outputs": [],
   "source": []
  },
  {
   "cell_type": "markdown",
   "id": "3c5755bf",
   "metadata": {},
   "source": [
    "## \tWhich countries have the highest and lowest fertility rates?"
   ]
  },
  {
   "cell_type": "code",
   "execution_count": null,
   "id": "2dfa1073",
   "metadata": {},
   "outputs": [],
   "source": []
  },
  {
   "cell_type": "code",
   "execution_count": null,
   "id": "6697068b",
   "metadata": {},
   "outputs": [],
   "source": []
  },
  {
   "cell_type": "code",
   "execution_count": null,
   "id": "4643c42b",
   "metadata": {},
   "outputs": [],
   "source": []
  },
  {
   "cell_type": "markdown",
   "id": "bc3a5afa",
   "metadata": {},
   "source": [
    "## How have global fertility rates changed over the past few decades?"
   ]
  },
  {
   "cell_type": "code",
   "execution_count": null,
   "id": "88939ae3",
   "metadata": {},
   "outputs": [],
   "source": []
  },
  {
   "cell_type": "code",
   "execution_count": null,
   "id": "51af4e5f",
   "metadata": {},
   "outputs": [],
   "source": []
  },
  {
   "cell_type": "code",
   "execution_count": null,
   "id": "f7c80186",
   "metadata": {},
   "outputs": [],
   "source": []
  },
  {
   "cell_type": "code",
   "execution_count": null,
   "id": "38eb6cbf",
   "metadata": {},
   "outputs": [],
   "source": []
  },
  {
   "cell_type": "code",
   "execution_count": null,
   "id": "d022d666",
   "metadata": {},
   "outputs": [],
   "source": []
  },
  {
   "cell_type": "code",
   "execution_count": null,
   "id": "1057b7ee",
   "metadata": {},
   "outputs": [],
   "source": []
  },
  {
   "cell_type": "markdown",
   "id": "6e42d8b7",
   "metadata": {},
   "source": [
    "## \tWhat are current global average fertility rates, and how do they compare to historical data?"
   ]
  },
  {
   "cell_type": "code",
   "execution_count": null,
   "id": "a1195c7a",
   "metadata": {},
   "outputs": [],
   "source": []
  },
  {
   "cell_type": "code",
   "execution_count": null,
   "id": "920dde61",
   "metadata": {},
   "outputs": [],
   "source": []
  },
  {
   "cell_type": "code",
   "execution_count": null,
   "id": "569922aa",
   "metadata": {},
   "outputs": [],
   "source": []
  },
  {
   "cell_type": "code",
   "execution_count": null,
   "id": "7de08d56",
   "metadata": {},
   "outputs": [],
   "source": []
  },
  {
   "cell_type": "code",
   "execution_count": null,
   "id": "92e1e9e7",
   "metadata": {},
   "outputs": [],
   "source": []
  },
  {
   "cell_type": "markdown",
   "id": "a6a98f9b",
   "metadata": {},
   "source": [
    "## How do fertility rates differ across various regions?"
   ]
  },
  {
   "cell_type": "code",
   "execution_count": null,
   "id": "f085afb5",
   "metadata": {},
   "outputs": [],
   "source": []
  },
  {
   "cell_type": "code",
   "execution_count": null,
   "id": "44cbebbd",
   "metadata": {},
   "outputs": [],
   "source": []
  },
  {
   "cell_type": "code",
   "execution_count": null,
   "id": "96b5afe5",
   "metadata": {},
   "outputs": [],
   "source": []
  },
  {
   "cell_type": "code",
   "execution_count": null,
   "id": "8bc0200c",
   "metadata": {},
   "outputs": [],
   "source": []
  },
  {
   "cell_type": "code",
   "execution_count": null,
   "id": "ae09d031",
   "metadata": {},
   "outputs": [],
   "source": []
  },
  {
   "cell_type": "markdown",
   "id": "bc3454cb",
   "metadata": {},
   "source": [
    "## What regions have the highest and lowest fertility rates, and what might explain these differences?"
   ]
  },
  {
   "cell_type": "code",
   "execution_count": null,
   "id": "063701d9",
   "metadata": {},
   "outputs": [],
   "source": []
  },
  {
   "cell_type": "code",
   "execution_count": null,
   "id": "e64d60b1",
   "metadata": {},
   "outputs": [],
   "source": []
  },
  {
   "cell_type": "code",
   "execution_count": null,
   "id": "ef4ca655",
   "metadata": {},
   "outputs": [],
   "source": []
  },
  {
   "cell_type": "code",
   "execution_count": null,
   "id": "bc16d458",
   "metadata": {},
   "outputs": [],
   "source": []
  },
  {
   "cell_type": "code",
   "execution_count": null,
   "id": "435112b0",
   "metadata": {},
   "outputs": [],
   "source": []
  },
  {
   "cell_type": "code",
   "execution_count": null,
   "id": "afa3fbb3",
   "metadata": {},
   "outputs": [],
   "source": []
  },
  {
   "cell_type": "markdown",
   "id": "83de15cb",
   "metadata": {},
   "source": [
    "## \tHow has birth rates change over time in the United States and other countries. "
   ]
  },
  {
   "cell_type": "code",
   "execution_count": null,
   "id": "f56812fb",
   "metadata": {},
   "outputs": [],
   "source": []
  },
  {
   "cell_type": "code",
   "execution_count": null,
   "id": "9e1b8362",
   "metadata": {},
   "outputs": [],
   "source": []
  },
  {
   "cell_type": "code",
   "execution_count": null,
   "id": "36048848",
   "metadata": {},
   "outputs": [],
   "source": []
  },
  {
   "cell_type": "code",
   "execution_count": null,
   "id": "66f75fe9",
   "metadata": {},
   "outputs": [],
   "source": []
  },
  {
   "cell_type": "code",
   "execution_count": null,
   "id": "f95444c7",
   "metadata": {},
   "outputs": [],
   "source": []
  },
  {
   "cell_type": "code",
   "execution_count": null,
   "id": "07a3598b",
   "metadata": {},
   "outputs": [],
   "source": []
  },
  {
   "cell_type": "markdown",
   "id": "55122f57",
   "metadata": {},
   "source": [
    "## \tIs there a correlation between a country's GDP per capita and its fertility rate?"
   ]
  },
  {
   "cell_type": "code",
   "execution_count": null,
   "id": "40df7e6f",
   "metadata": {},
   "outputs": [],
   "source": []
  },
  {
   "cell_type": "code",
   "execution_count": null,
   "id": "c72d4884",
   "metadata": {},
   "outputs": [],
   "source": []
  },
  {
   "cell_type": "code",
   "execution_count": null,
   "id": "31338f6b",
   "metadata": {},
   "outputs": [],
   "source": []
  },
  {
   "cell_type": "code",
   "execution_count": null,
   "id": "efcf0041",
   "metadata": {},
   "outputs": [],
   "source": []
  },
  {
   "cell_type": "code",
   "execution_count": null,
   "id": "f1b5e4e6",
   "metadata": {},
   "outputs": [],
   "source": []
  },
  {
   "cell_type": "markdown",
   "id": "6cb02bdd",
   "metadata": {},
   "source": [
    "## \tHow do factors such as women's education levels, employment rates, and access to healthcare impact fertility rates?"
   ]
  },
  {
   "cell_type": "code",
   "execution_count": null,
   "id": "d78971b1",
   "metadata": {},
   "outputs": [],
   "source": []
  },
  {
   "cell_type": "code",
   "execution_count": null,
   "id": "5f86bc06",
   "metadata": {},
   "outputs": [],
   "source": []
  },
  {
   "cell_type": "code",
   "execution_count": null,
   "id": "58a83a66",
   "metadata": {},
   "outputs": [],
   "source": []
  },
  {
   "cell_type": "code",
   "execution_count": null,
   "id": "370bebab",
   "metadata": {},
   "outputs": [],
   "source": []
  },
  {
   "cell_type": "code",
   "execution_count": null,
   "id": "1679b1cf",
   "metadata": {},
   "outputs": [],
   "source": []
  },
  {
   "cell_type": "code",
   "execution_count": null,
   "id": "9ee58109",
   "metadata": {},
   "outputs": [],
   "source": []
  },
  {
   "cell_type": "markdown",
   "id": "2d1b15aa",
   "metadata": {},
   "source": [
    "## \tWhat role do cultural and religious practices play in influencing fertility rates?"
   ]
  },
  {
   "cell_type": "code",
   "execution_count": null,
   "id": "a9ad8402",
   "metadata": {},
   "outputs": [],
   "source": []
  },
  {
   "cell_type": "code",
   "execution_count": null,
   "id": "6ada0472",
   "metadata": {},
   "outputs": [],
   "source": []
  },
  {
   "cell_type": "code",
   "execution_count": null,
   "id": "35f5928a",
   "metadata": {},
   "outputs": [],
   "source": []
  },
  {
   "cell_type": "code",
   "execution_count": null,
   "id": "49b2c47e",
   "metadata": {},
   "outputs": [],
   "source": []
  },
  {
   "cell_type": "code",
   "execution_count": null,
   "id": "159cc513",
   "metadata": {},
   "outputs": [],
   "source": []
  },
  {
   "cell_type": "code",
   "execution_count": null,
   "id": "303dc5b5",
   "metadata": {},
   "outputs": [],
   "source": []
  },
  {
   "cell_type": "markdown",
   "id": "0ea1c6bc",
   "metadata": {},
   "source": [
    "## \tHow do fertility rates differ between urban and rural areas within countries?"
   ]
  },
  {
   "cell_type": "code",
   "execution_count": null,
   "id": "541b738d",
   "metadata": {},
   "outputs": [],
   "source": []
  },
  {
   "cell_type": "code",
   "execution_count": null,
   "id": "af81e5d4",
   "metadata": {},
   "outputs": [],
   "source": []
  },
  {
   "cell_type": "code",
   "execution_count": null,
   "id": "25a0a8e5",
   "metadata": {},
   "outputs": [],
   "source": []
  },
  {
   "cell_type": "code",
   "execution_count": null,
   "id": "9c8ba2ba",
   "metadata": {},
   "outputs": [],
   "source": []
  },
  {
   "cell_type": "code",
   "execution_count": null,
   "id": "a7023c84",
   "metadata": {},
   "outputs": [],
   "source": []
  },
  {
   "cell_type": "code",
   "execution_count": null,
   "id": "ccf542f7",
   "metadata": {},
   "outputs": [],
   "source": []
  },
  {
   "cell_type": "code",
   "execution_count": null,
   "id": "6b1af551",
   "metadata": {},
   "outputs": [],
   "source": []
  },
  {
   "cell_type": "code",
   "execution_count": null,
   "id": "b45960bc",
   "metadata": {},
   "outputs": [],
   "source": []
  },
  {
   "cell_type": "markdown",
   "id": "054657ac",
   "metadata": {},
   "source": [
    "## How have birth rates and fertility rates changed in regions or countries following the implementation of specific government policies"
   ]
  },
  {
   "cell_type": "code",
   "execution_count": null,
   "id": "a92b5070",
   "metadata": {},
   "outputs": [],
   "source": []
  },
  {
   "cell_type": "code",
   "execution_count": null,
   "id": "1fcc95d8",
   "metadata": {},
   "outputs": [],
   "source": []
  },
  {
   "cell_type": "code",
   "execution_count": null,
   "id": "3db1ee22",
   "metadata": {},
   "outputs": [],
   "source": []
  },
  {
   "cell_type": "code",
   "execution_count": null,
   "id": "75322c9d",
   "metadata": {},
   "outputs": [],
   "source": []
  },
  {
   "cell_type": "markdown",
   "id": "3ebed255",
   "metadata": {},
   "source": [
    "## \tHow do changes in fertility rates impact population growth and demographic structures (e.g., aging populations)?"
   ]
  },
  {
   "cell_type": "code",
   "execution_count": null,
   "id": "c620d4b5",
   "metadata": {},
   "outputs": [],
   "source": []
  },
  {
   "cell_type": "code",
   "execution_count": null,
   "id": "47368b1d",
   "metadata": {},
   "outputs": [],
   "source": []
  },
  {
   "cell_type": "code",
   "execution_count": null,
   "id": "d03b8713",
   "metadata": {},
   "outputs": [],
   "source": []
  },
  {
   "cell_type": "code",
   "execution_count": null,
   "id": "cea91acd",
   "metadata": {},
   "outputs": [],
   "source": []
  },
  {
   "cell_type": "code",
   "execution_count": null,
   "id": "88947502",
   "metadata": {},
   "outputs": [],
   "source": []
  },
  {
   "cell_type": "markdown",
   "id": "c6070c1e",
   "metadata": {},
   "source": [
    "## \tHow do birth and fertility rates in countries with similar economic and social conditions but different policies compare?"
   ]
  },
  {
   "cell_type": "code",
   "execution_count": null,
   "id": "4b7a6ba2",
   "metadata": {},
   "outputs": [],
   "source": []
  },
  {
   "cell_type": "code",
   "execution_count": null,
   "id": "170fa296",
   "metadata": {},
   "outputs": [],
   "source": []
  },
  {
   "cell_type": "code",
   "execution_count": null,
   "id": "3b94f6ef",
   "metadata": {},
   "outputs": [],
   "source": []
  },
  {
   "cell_type": "code",
   "execution_count": null,
   "id": "73227ce6",
   "metadata": {},
   "outputs": [],
   "source": []
  },
  {
   "cell_type": "markdown",
   "id": "6e7af0f1",
   "metadata": {},
   "source": [
    "## \tWhat are the potential social and economic consequences of low or high fertility rates?"
   ]
  },
  {
   "cell_type": "code",
   "execution_count": null,
   "id": "d22c80d5",
   "metadata": {},
   "outputs": [],
   "source": []
  },
  {
   "cell_type": "code",
   "execution_count": null,
   "id": "bda7cd05",
   "metadata": {},
   "outputs": [],
   "source": []
  },
  {
   "cell_type": "code",
   "execution_count": null,
   "id": "722f3dde",
   "metadata": {},
   "outputs": [],
   "source": []
  },
  {
   "cell_type": "code",
   "execution_count": null,
   "id": "9f7aff4d",
   "metadata": {},
   "outputs": [],
   "source": []
  },
  {
   "cell_type": "code",
   "execution_count": null,
   "id": "3673a122",
   "metadata": {},
   "outputs": [],
   "source": []
  },
  {
   "cell_type": "code",
   "execution_count": null,
   "id": "5183c448",
   "metadata": {},
   "outputs": [],
   "source": []
  },
  {
   "cell_type": "code",
   "execution_count": null,
   "id": "f15f4be2",
   "metadata": {},
   "outputs": [],
   "source": []
  },
  {
   "cell_type": "markdown",
   "id": "2192df50",
   "metadata": {},
   "source": [
    "## \tWhat are some of the main barriers preventing couples from deciding on having children or the number of children they plan on having"
   ]
  },
  {
   "cell_type": "code",
   "execution_count": null,
   "id": "ea39aa29",
   "metadata": {},
   "outputs": [],
   "source": []
  },
  {
   "cell_type": "code",
   "execution_count": null,
   "id": "81675d6b",
   "metadata": {},
   "outputs": [],
   "source": []
  },
  {
   "cell_type": "code",
   "execution_count": null,
   "id": "8f4ddb8e",
   "metadata": {},
   "outputs": [],
   "source": []
  },
  {
   "cell_type": "code",
   "execution_count": null,
   "id": "7237714d",
   "metadata": {},
   "outputs": [],
   "source": []
  },
  {
   "cell_type": "code",
   "execution_count": null,
   "id": "1fb0823a",
   "metadata": {},
   "outputs": [],
   "source": []
  },
  {
   "cell_type": "markdown",
   "id": "a28ea434",
   "metadata": {},
   "source": [
    "## \tHow have government policies (e.g., family planning programs, parental leave, child benefits) affected fertility rates in different countries?"
   ]
  },
  {
   "cell_type": "code",
   "execution_count": null,
   "id": "943004a3",
   "metadata": {},
   "outputs": [],
   "source": []
  },
  {
   "cell_type": "code",
   "execution_count": null,
   "id": "2dae2676",
   "metadata": {},
   "outputs": [],
   "source": []
  },
  {
   "cell_type": "code",
   "execution_count": null,
   "id": "48103625",
   "metadata": {},
   "outputs": [],
   "source": []
  },
  {
   "cell_type": "markdown",
   "id": "226685ce",
   "metadata": {},
   "source": [
    "## \tAre there examples of successful policies that have either increased or decreased fertility rates?"
   ]
  },
  {
   "cell_type": "code",
   "execution_count": null,
   "id": "9cf4ca1d",
   "metadata": {},
   "outputs": [],
   "source": []
  },
  {
   "cell_type": "code",
   "execution_count": null,
   "id": "db417dd8",
   "metadata": {},
   "outputs": [],
   "source": []
  },
  {
   "cell_type": "code",
   "execution_count": null,
   "id": "6dcaa260",
   "metadata": {},
   "outputs": [],
   "source": []
  },
  {
   "cell_type": "code",
   "execution_count": null,
   "id": "36221380",
   "metadata": {},
   "outputs": [],
   "source": []
  },
  {
   "cell_type": "code",
   "execution_count": null,
   "id": "7644298e",
   "metadata": {},
   "outputs": [],
   "source": []
  }
 ],
 "metadata": {
  "kernelspec": {
   "display_name": "Python 3 (ipykernel)",
   "language": "python",
   "name": "python3"
  },
  "language_info": {
   "codemirror_mode": {
    "name": "ipython",
    "version": 3
   },
   "file_extension": ".py",
   "mimetype": "text/x-python",
   "name": "python",
   "nbconvert_exporter": "python",
   "pygments_lexer": "ipython3",
   "version": "3.11.7"
  }
 },
 "nbformat": 4,
 "nbformat_minor": 5
}
