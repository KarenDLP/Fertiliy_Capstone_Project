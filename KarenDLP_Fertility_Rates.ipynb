{
 "cells": [
  {
   "cell_type": "code",
   "execution_count": 1,
   "id": "9cb5a105",
   "metadata": {},
   "outputs": [],
   "source": [
    "import pandas as pd\n",
    "import numpy as np\n",
    "import matplotlib.pyplot as plt\n",
    "import seaborn as sns"
   ]
  },
  {
   "cell_type": "code",
   "execution_count": 16,
   "id": "e9d06eab",
   "metadata": {},
   "outputs": [],
   "source": [
    "one = pd.read_excel(r'United Nations Excel_Data\\1 age population of both sexes birthyears.xlsx')\n",
    "two = pd.read_excel(r'United Nations Excel_Data\\2 female by age.xlsx')\n",
    "three = pd.read_excel(r'United Nations Excel_Data\\3 male by age.xlsx')\n",
    "four = pd.read_excel(r'United Nations Excel_Data\\4 life expectancy at birth (1950-2050).xls.xlsx')\n",
    "five = pd.read_excel(r'United Nations Excel_Data\\5 total population by genders (2000-2050).xlsx')\n",
    "six = pd.read_excel(r'United Nations Excel_Data\\6 Gender by ratio.xlsx')\n",
    "seven = pd.read_excel(r'United Nations Excel_Data\\7 Births total by year (1950-2050).xlsx')\n",
    "eight = pd.read_excel(r'United Nations Excel_Data\\8 womens age when giving birth (1950-2050).xlsx')\n",
    "nine = pd.read_excel(r'United Nations Excel_Data\\9_births by age of Mother (1995-2050).xlsx')\n",
    "ten = pd.read_excel(r'United Nations Excel_Data\\10 Net Reproduction Rate (1950-2050).xlsx')\n",
    "eleven = pd.read_excel(r'United Nations Excel_Data\\11 Median age of a country.xlsx')\n",
    "twelve = pd.read_excel(r'United Nations Excel_Data\\12 Male Deaths by Age Group.xlsx')\n",
    "thirteen = pd.read_excel(r'United Nations Excel_Data\\13 Female Deaths by Age_group (1995-2050).xlsx')\n",
    "fourteen = pd.read_excel(r'United Nations Excel_Data\\14 Infant Mortality (1950-2050).xlsx')\n",
    "fifteen = pd.read_excel(r'United Nations Excel_Data\\15 Total Deaths.xlsx')\n",
    "sixteen = pd.read_excel(r'United Nations Excel_Data\\16_Deaths by age_groups (1995-2050).xlsx')\n",
    "seventeen = pd.read_excel(r'United Nations Excel_Data\\17_ Crude Births_Deaths and Growth rates (1950-2050).xlsx')\n",
    "eighteen = pd.read_excel(r'United Nations Excel_Data\\18 is a population growing.xlsx')\n",
    "#nineteen = pd.read_excel(r'United Nations Excel_Data\\19 Policy questions.xlsx')\n",
    "twenty = pd.read_excel(r'United Nations Excel_Data\\20 Yearly Fertility Percentage (1950-2050).xlsx')\n",
    "twentyone = pd.read_excel(r'United Nations Excel_Data\\21 Total population.xlsx')"
   ]
  },
  {
   "cell_type": "markdown",
   "id": "1e80fe81",
   "metadata": {},
   "source": [
    "## Keep in mind . . ."
   ]
  },
  {
   "cell_type": "markdown",
   "id": "5bc809fb",
   "metadata": {},
   "source": [
    "## Crude Birth Rate- The ratio between the number of live births in a population during a given year and the total mid-year population for the same year, usually multiplied by 1,000.\n",
    "\n",
    "## Low-fertility countries: Those countries with fertility at or below replacement level (2.1 children per woman) plus a few with levels very close to replacement levels that are expected to fall below replacement level in the near future.\n",
    "\n",
    "## The rate of natural increase (RNI) is a measure of how quickly a population is growing or declining. However, the RNI does not factor in population change resulting from immigration or emigration – it is determined solely by the difference between birth and death rates in a region. To calculate the RNI, demographers subtract the death rate (number of deaths per 1,000 people/year) from the birth rate (number of birth per 1,000 people/year) and convert the answer to a percentage.\n",
    "\n",
    "1 age population of both sexes birthyears.xlsx \n",
    "\n",
    "2 female by age.xlsx \n",
    "\n",
    "3 male by age.xlsx \n",
    "\n",
    "4 life expectancy at birth (1950-2050).xls\n",
    "\n",
    "5 total population by genders (2000-2050).xls\n",
    "\n",
    "6 Gender by ratio.xls\n",
    "\n",
    "7 Births total by year (1950-2050).xls\n",
    "\n",
    "8 womens age when giving birth (1950-2050).xls\n",
    "\n",
    "9 births by age of Mother (1995-2050).xls \n",
    "\n",
    "10 Net Reproduction Rate (1950-2050).xls\n",
    "\n",
    "11 Median age of a country.xls\n",
    "\n",
    "12 Male Deaths by Age Group.xls\n",
    "\n",
    "13 Female Deaths by Age_group (1995-2050).xls\n",
    "\n",
    "14 Infant Mortality (1950-2050).xls\n",
    "\n",
    "15 Total Deaths.xls\n",
    "\n",
    "16_Deaths by age_groups (1995-2050).xls\n",
    "\n",
    "17 Crude Births_Deaths and Growth rates (1950-2050).xls\n",
    "\n",
    "18 is a population growing.xls\n",
    "\n",
    "19 Policy questions.xlsx\n",
    "\n",
    "20 Yearly Fertility Percentage (1950-2050).xls\n",
    "\n",
    "21 Total population\n"
   ]
  },
  {
   "cell_type": "markdown",
   "id": "6c2bc55b",
   "metadata": {},
   "source": [
    "## Review data "
   ]
  },
  {
   "cell_type": "code",
   "execution_count": 7,
   "id": "67031546",
   "metadata": {},
   "outputs": [
    {
     "data": {
      "text/html": [
       "<div>\n",
       "<style scoped>\n",
       "    .dataframe tbody tr th:only-of-type {\n",
       "        vertical-align: middle;\n",
       "    }\n",
       "\n",
       "    .dataframe tbody tr th {\n",
       "        vertical-align: top;\n",
       "    }\n",
       "\n",
       "    .dataframe thead th {\n",
       "        text-align: right;\n",
       "    }\n",
       "</style>\n",
       "<table border=\"1\" class=\"dataframe\">\n",
       "  <thead>\n",
       "    <tr style=\"text-align: right;\">\n",
       "      <th></th>\n",
       "      <th>Index</th>\n",
       "      <th>Variant</th>\n",
       "      <th>country or area</th>\n",
       "      <th>Note</th>\n",
       "      <th>Country code</th>\n",
       "      <th>Reference date (as of 1 July)</th>\n",
       "      <th>0 - 4</th>\n",
       "      <th>5 - 9</th>\n",
       "      <th>10 - 14</th>\n",
       "      <th>15 - 19</th>\n",
       "      <th>...</th>\n",
       "      <th>55 - 59</th>\n",
       "      <th>60 - 64</th>\n",
       "      <th>65 - 69</th>\n",
       "      <th>70 - 74</th>\n",
       "      <th>75 - 79</th>\n",
       "      <th>80 - 84</th>\n",
       "      <th>85 - 89</th>\n",
       "      <th>90 - 94</th>\n",
       "      <th>95 - 99</th>\n",
       "      <th>100</th>\n",
       "    </tr>\n",
       "  </thead>\n",
       "  <tbody>\n",
       "    <tr>\n",
       "      <th>0</th>\n",
       "      <td>1</td>\n",
       "      <td>Estimates</td>\n",
       "      <td>WORLD</td>\n",
       "      <td>NaN</td>\n",
       "      <td>900</td>\n",
       "      <td>1950</td>\n",
       "      <td>337667</td>\n",
       "      <td>269428</td>\n",
       "      <td>256708</td>\n",
       "      <td>238802</td>\n",
       "      <td>...</td>\n",
       "      <td>90131</td>\n",
       "      <td>74526</td>\n",
       "      <td>56592</td>\n",
       "      <td>38309</td>\n",
       "      <td>22268</td>\n",
       "      <td>13781</td>\n",
       "      <td>0</td>\n",
       "      <td>0</td>\n",
       "      <td>0</td>\n",
       "      <td>0</td>\n",
       "    </tr>\n",
       "    <tr>\n",
       "      <th>1</th>\n",
       "      <td>1</td>\n",
       "      <td>Estimates</td>\n",
       "      <td>WORLD</td>\n",
       "      <td>NaN</td>\n",
       "      <td>900</td>\n",
       "      <td>1951</td>\n",
       "      <td>354745</td>\n",
       "      <td>276699</td>\n",
       "      <td>251688</td>\n",
       "      <td>244981</td>\n",
       "      <td>...</td>\n",
       "      <td>90592</td>\n",
       "      <td>75790</td>\n",
       "      <td>57977</td>\n",
       "      <td>38985</td>\n",
       "      <td>22808</td>\n",
       "      <td>14249</td>\n",
       "      <td>0</td>\n",
       "      <td>0</td>\n",
       "      <td>0</td>\n",
       "      <td>0</td>\n",
       "    </tr>\n",
       "    <tr>\n",
       "      <th>2</th>\n",
       "      <td>1</td>\n",
       "      <td>Estimates</td>\n",
       "      <td>WORLD</td>\n",
       "      <td>NaN</td>\n",
       "      <td>900</td>\n",
       "      <td>1952</td>\n",
       "      <td>369183</td>\n",
       "      <td>284312</td>\n",
       "      <td>250980</td>\n",
       "      <td>248944</td>\n",
       "      <td>...</td>\n",
       "      <td>91414</td>\n",
       "      <td>76916</td>\n",
       "      <td>59008</td>\n",
       "      <td>39843</td>\n",
       "      <td>23353</td>\n",
       "      <td>14698</td>\n",
       "      <td>0</td>\n",
       "      <td>0</td>\n",
       "      <td>0</td>\n",
       "      <td>0</td>\n",
       "    </tr>\n",
       "    <tr>\n",
       "      <th>3</th>\n",
       "      <td>1</td>\n",
       "      <td>Estimates</td>\n",
       "      <td>WORLD</td>\n",
       "      <td>NaN</td>\n",
       "      <td>900</td>\n",
       "      <td>1953</td>\n",
       "      <td>381104</td>\n",
       "      <td>292900</td>\n",
       "      <td>253404</td>\n",
       "      <td>251159</td>\n",
       "      <td>...</td>\n",
       "      <td>92610</td>\n",
       "      <td>77901</td>\n",
       "      <td>59866</td>\n",
       "      <td>40800</td>\n",
       "      <td>23917</td>\n",
       "      <td>15143</td>\n",
       "      <td>0</td>\n",
       "      <td>0</td>\n",
       "      <td>0</td>\n",
       "      <td>0</td>\n",
       "    </tr>\n",
       "    <tr>\n",
       "      <th>4</th>\n",
       "      <td>1</td>\n",
       "      <td>Estimates</td>\n",
       "      <td>WORLD</td>\n",
       "      <td>NaN</td>\n",
       "      <td>900</td>\n",
       "      <td>1954</td>\n",
       "      <td>390745</td>\n",
       "      <td>302812</td>\n",
       "      <td>258022</td>\n",
       "      <td>252107</td>\n",
       "      <td>...</td>\n",
       "      <td>94175</td>\n",
       "      <td>78761</td>\n",
       "      <td>60687</td>\n",
       "      <td>41794</td>\n",
       "      <td>24511</td>\n",
       "      <td>15595</td>\n",
       "      <td>0</td>\n",
       "      <td>0</td>\n",
       "      <td>0</td>\n",
       "      <td>0</td>\n",
       "    </tr>\n",
       "  </tbody>\n",
       "</table>\n",
       "<p>5 rows × 27 columns</p>\n",
       "</div>"
      ],
      "text/plain": [
       "   Index    Variant country or area Note  Country code  \\\n",
       "0      1  Estimates           WORLD  NaN           900   \n",
       "1      1  Estimates           WORLD  NaN           900   \n",
       "2      1  Estimates           WORLD  NaN           900   \n",
       "3      1  Estimates           WORLD  NaN           900   \n",
       "4      1  Estimates           WORLD  NaN           900   \n",
       "\n",
       "   Reference date (as of 1 July)   0 - 4   5 - 9  10 - 14  15 - 19  ...  \\\n",
       "0                           1950  337667  269428   256708   238802  ...   \n",
       "1                           1951  354745  276699   251688   244981  ...   \n",
       "2                           1952  369183  284312   250980   248944  ...   \n",
       "3                           1953  381104  292900   253404   251159  ...   \n",
       "4                           1954  390745  302812   258022   252107  ...   \n",
       "\n",
       "   55 - 59  60 - 64  65 - 69  70 - 74  75 - 79  80 - 84  85 - 89  90 - 94  \\\n",
       "0    90131    74526    56592    38309    22268    13781        0        0   \n",
       "1    90592    75790    57977    38985    22808    14249        0        0   \n",
       "2    91414    76916    59008    39843    23353    14698        0        0   \n",
       "3    92610    77901    59866    40800    23917    15143        0        0   \n",
       "4    94175    78761    60687    41794    24511    15595        0        0   \n",
       "\n",
       "   95 - 99  100  \n",
       "0        0    0  \n",
       "1        0    0  \n",
       "2        0    0  \n",
       "3        0    0  \n",
       "4        0    0  \n",
       "\n",
       "[5 rows x 27 columns]"
      ]
     },
     "execution_count": 7,
     "metadata": {},
     "output_type": "execute_result"
    }
   ],
   "source": [
    "one.head()"
   ]
  },
  {
   "cell_type": "code",
   "execution_count": 8,
   "id": "7805e7a3",
   "metadata": {},
   "outputs": [
    {
     "data": {
      "text/html": [
       "<div>\n",
       "<style scoped>\n",
       "    .dataframe tbody tr th:only-of-type {\n",
       "        vertical-align: middle;\n",
       "    }\n",
       "\n",
       "    .dataframe tbody tr th {\n",
       "        vertical-align: top;\n",
       "    }\n",
       "\n",
       "    .dataframe thead th {\n",
       "        text-align: right;\n",
       "    }\n",
       "</style>\n",
       "<table border=\"1\" class=\"dataframe\">\n",
       "  <thead>\n",
       "    <tr style=\"text-align: right;\">\n",
       "      <th></th>\n",
       "      <th>Index</th>\n",
       "      <th>Varient</th>\n",
       "      <th>country or area</th>\n",
       "      <th>Note</th>\n",
       "      <th>Country code</th>\n",
       "      <th>Reference date (as of 1 July)</th>\n",
       "      <th>0 - 4</th>\n",
       "      <th>5 - 9</th>\n",
       "      <th>10 - 14</th>\n",
       "      <th>15 - 19</th>\n",
       "      <th>...</th>\n",
       "      <th>55 - 59</th>\n",
       "      <th>60 - 64</th>\n",
       "      <th>65 - 69</th>\n",
       "      <th>70 - 74</th>\n",
       "      <th>75 - 79</th>\n",
       "      <th>80 - 84</th>\n",
       "      <th>85 - 89</th>\n",
       "      <th>90 - 94</th>\n",
       "      <th>95 - 99</th>\n",
       "      <th>100</th>\n",
       "    </tr>\n",
       "  </thead>\n",
       "  <tbody>\n",
       "    <tr>\n",
       "      <th>0</th>\n",
       "      <td>1</td>\n",
       "      <td>Estimates</td>\n",
       "      <td>WORLD</td>\n",
       "      <td>NaN</td>\n",
       "      <td>900</td>\n",
       "      <td>1950</td>\n",
       "      <td>164961</td>\n",
       "      <td>132386</td>\n",
       "      <td>125434</td>\n",
       "      <td>116593</td>\n",
       "      <td>...</td>\n",
       "      <td>46608</td>\n",
       "      <td>39506</td>\n",
       "      <td>31382</td>\n",
       "      <td>21643</td>\n",
       "      <td>13047</td>\n",
       "      <td>8537</td>\n",
       "      <td>0</td>\n",
       "      <td>0</td>\n",
       "      <td>0</td>\n",
       "      <td>0</td>\n",
       "    </tr>\n",
       "    <tr>\n",
       "      <th>1</th>\n",
       "      <td>1</td>\n",
       "      <td>Estimates</td>\n",
       "      <td>WORLD</td>\n",
       "      <td>NaN</td>\n",
       "      <td>900</td>\n",
       "      <td>1951</td>\n",
       "      <td>173519</td>\n",
       "      <td>135523</td>\n",
       "      <td>123258</td>\n",
       "      <td>119660</td>\n",
       "      <td>...</td>\n",
       "      <td>47021</td>\n",
       "      <td>40014</td>\n",
       "      <td>31919</td>\n",
       "      <td>22232</td>\n",
       "      <td>13299</td>\n",
       "      <td>8818</td>\n",
       "      <td>0</td>\n",
       "      <td>0</td>\n",
       "      <td>0</td>\n",
       "      <td>0</td>\n",
       "    </tr>\n",
       "    <tr>\n",
       "      <th>2</th>\n",
       "      <td>1</td>\n",
       "      <td>Estimates</td>\n",
       "      <td>WORLD</td>\n",
       "      <td>NaN</td>\n",
       "      <td>900</td>\n",
       "      <td>1952</td>\n",
       "      <td>180728</td>\n",
       "      <td>138939</td>\n",
       "      <td>123103</td>\n",
       "      <td>121610</td>\n",
       "      <td>...</td>\n",
       "      <td>47574</td>\n",
       "      <td>40518</td>\n",
       "      <td>32330</td>\n",
       "      <td>22810</td>\n",
       "      <td>13582</td>\n",
       "      <td>9093</td>\n",
       "      <td>0</td>\n",
       "      <td>0</td>\n",
       "      <td>0</td>\n",
       "      <td>0</td>\n",
       "    </tr>\n",
       "    <tr>\n",
       "      <th>3</th>\n",
       "      <td>1</td>\n",
       "      <td>Estimates</td>\n",
       "      <td>WORLD</td>\n",
       "      <td>NaN</td>\n",
       "      <td>900</td>\n",
       "      <td>1953</td>\n",
       "      <td>186658</td>\n",
       "      <td>142936</td>\n",
       "      <td>124382</td>\n",
       "      <td>122707</td>\n",
       "      <td>...</td>\n",
       "      <td>48285</td>\n",
       "      <td>41017</td>\n",
       "      <td>32686</td>\n",
       "      <td>23363</td>\n",
       "      <td>13901</td>\n",
       "      <td>9368</td>\n",
       "      <td>0</td>\n",
       "      <td>0</td>\n",
       "      <td>0</td>\n",
       "      <td>0</td>\n",
       "    </tr>\n",
       "    <tr>\n",
       "      <th>4</th>\n",
       "      <td>1</td>\n",
       "      <td>Estimates</td>\n",
       "      <td>WORLD</td>\n",
       "      <td>NaN</td>\n",
       "      <td>900</td>\n",
       "      <td>1954</td>\n",
       "      <td>191435</td>\n",
       "      <td>147678</td>\n",
       "      <td>126638</td>\n",
       "      <td>123211</td>\n",
       "      <td>...</td>\n",
       "      <td>49160</td>\n",
       "      <td>41514</td>\n",
       "      <td>33040</td>\n",
       "      <td>23883</td>\n",
       "      <td>14260</td>\n",
       "      <td>9650</td>\n",
       "      <td>0</td>\n",
       "      <td>0</td>\n",
       "      <td>0</td>\n",
       "      <td>0</td>\n",
       "    </tr>\n",
       "  </tbody>\n",
       "</table>\n",
       "<p>5 rows × 27 columns</p>\n",
       "</div>"
      ],
      "text/plain": [
       "   Index    Varient country or area Note  Country code  \\\n",
       "0      1  Estimates           WORLD  NaN           900   \n",
       "1      1  Estimates           WORLD  NaN           900   \n",
       "2      1  Estimates           WORLD  NaN           900   \n",
       "3      1  Estimates           WORLD  NaN           900   \n",
       "4      1  Estimates           WORLD  NaN           900   \n",
       "\n",
       "   Reference date (as of 1 July)   0 - 4   5 - 9  10 - 14  15 - 19  ...  \\\n",
       "0                           1950  164961  132386   125434   116593  ...   \n",
       "1                           1951  173519  135523   123258   119660  ...   \n",
       "2                           1952  180728  138939   123103   121610  ...   \n",
       "3                           1953  186658  142936   124382   122707  ...   \n",
       "4                           1954  191435  147678   126638   123211  ...   \n",
       "\n",
       "   55 - 59  60 - 64  65 - 69  70 - 74  75 - 79  80 - 84  85 - 89  90 - 94  \\\n",
       "0    46608    39506    31382    21643    13047     8537        0        0   \n",
       "1    47021    40014    31919    22232    13299     8818        0        0   \n",
       "2    47574    40518    32330    22810    13582     9093        0        0   \n",
       "3    48285    41017    32686    23363    13901     9368        0        0   \n",
       "4    49160    41514    33040    23883    14260     9650        0        0   \n",
       "\n",
       "   95 - 99  100  \n",
       "0        0    0  \n",
       "1        0    0  \n",
       "2        0    0  \n",
       "3        0    0  \n",
       "4        0    0  \n",
       "\n",
       "[5 rows x 27 columns]"
      ]
     },
     "execution_count": 8,
     "metadata": {},
     "output_type": "execute_result"
    }
   ],
   "source": [
    "two.head()"
   ]
  },
  {
   "cell_type": "code",
   "execution_count": null,
   "id": "a663957e",
   "metadata": {},
   "outputs": [],
   "source": []
  },
  {
   "cell_type": "markdown",
   "id": "a8f4f963",
   "metadata": {},
   "source": [
    "##"
   ]
  },
  {
   "cell_type": "markdown",
   "id": "ca22d62d",
   "metadata": {},
   "source": [
    "##  Questions"
   ]
  },
  {
   "cell_type": "markdown",
   "id": "7e3925d8",
   "metadata": {},
   "source": [
    "# Human population 1950-2024"
   ]
  },
  {
   "cell_type": "code",
   "execution_count": 45,
   "id": "34573aa4",
   "metadata": {},
   "outputs": [],
   "source": [
    "#twentyone.info()"
   ]
  },
  {
   "cell_type": "code",
   "execution_count": 49,
   "id": "ef89270f",
   "metadata": {},
   "outputs": [
    {
     "name": "stdout",
     "output_type": "stream",
     "text": [
      "countries or areas:\n",
      "WORLD\n",
      "Sustainable Development Goal (SDG) regions\n",
      "Sub-Saharan Africa\n",
      "Northern Africa and Western Asia\n",
      "Central and Southern Asia\n",
      "Eastern and South-Eastern Asia\n",
      "Latin America and the Caribbean\n",
      "Oceania (excluding Australia and New Zealand)\n",
      "Australia/New Zealand\n",
      "Europe and Northern America\n",
      "UN development groups\n",
      "More developed regions\n",
      "Less developed regions\n",
      "Least developed countries\n",
      "Less developed regions, excluding least developed countries\n",
      "Less developed regions, excluding China\n",
      "Land-locked Developing Countries (LLDC)\n",
      "Small Island Developing States (SIDS)\n",
      "World Bank income groups\n",
      "High-income countries\n",
      "Middle-income countries\n",
      "Upper-middle-income countries\n",
      "Lower-middle-income countries\n",
      "Low-income countries\n",
      "No income group available\n",
      "Geographic regions\n",
      "AFRICA\n",
      "Eastern Africa\n",
      "Burundi\n",
      "Comoros\n",
      "Djibouti\n",
      "Eritrea\n",
      "Ethiopia\n",
      "Kenya\n",
      "Madagascar\n",
      "Malawi\n",
      "Mauritius\n",
      "Mayotte\n",
      "Mozambique\n",
      "Réunion\n",
      "Rwanda\n",
      "Seychelles\n",
      "Somalia\n",
      "South Sudan\n",
      "Uganda\n",
      "United Republic of Tanzania\n",
      "Zambia\n",
      "Zimbabwe\n",
      "Middle Africa\n",
      "Angola\n",
      "Cameroon\n",
      "Central African Republic\n",
      "Chad\n",
      "Congo\n",
      "Democratic Republic of the Congo\n",
      "Equatorial Guinea\n",
      "Gabon\n",
      "Sao Tome and Principe\n",
      "Northern Africa\n",
      "Algeria\n",
      "Egypt\n",
      "Libya\n",
      "Morocco\n",
      "Sudan\n",
      "Tunisia\n",
      "Western Sahara\n",
      "Southern Africa\n",
      "Botswana\n",
      "Eswatini\n",
      "Lesotho\n",
      "Namibia\n",
      "South Africa\n",
      "Western Africa\n",
      "Benin\n",
      "Burkina Faso\n",
      "Cabo Verde\n",
      "Côte d'Ivoire\n",
      "Gambia\n",
      "Ghana\n",
      "Guinea\n",
      "Guinea-Bissau\n",
      "Liberia\n",
      "Mali\n",
      "Mauritania\n",
      "Niger\n",
      "Nigeria\n",
      "Saint Helena\n",
      "Senegal\n",
      "Sierra Leone\n",
      "Togo\n",
      "ASIA\n",
      "Central Asia\n",
      "Kazakhstan\n",
      "Kyrgyzstan\n",
      "Tajikistan\n",
      "Turkmenistan\n",
      "Uzbekistan\n",
      "Eastern Asia\n",
      "China\n",
      "China, Hong Kong SAR\n",
      "China, Macao SAR\n",
      "China, Taiwan Province of China\n",
      "Dem. People's Republic of Korea\n",
      "Japan\n",
      "Mongolia\n",
      "Republic of Korea\n",
      "Southern Asia\n",
      "Afghanistan\n",
      "Bangladesh\n",
      "Bhutan\n",
      "India\n",
      "Iran (Islamic Republic of)\n",
      "Maldives\n",
      "Nepal\n",
      "Pakistan\n",
      "Sri Lanka\n",
      "South-Eastern Asia\n",
      "Brunei Darussalam\n",
      "Cambodia\n",
      "Indonesia\n",
      "Lao People's Democratic Republic\n",
      "Malaysia\n",
      "Myanmar\n",
      "Philippines\n",
      "Singapore\n",
      "Thailand\n",
      "Timor-Leste\n",
      "Viet Nam\n",
      "Western Asia\n",
      "Armenia\n",
      "Azerbaijan\n",
      "Bahrain\n",
      "Cyprus\n",
      "Georgia\n",
      "Iraq\n",
      "Israel\n",
      "Jordan\n",
      "Kuwait\n",
      "Lebanon\n",
      "Oman\n",
      "Qatar\n",
      "Saudi Arabia\n",
      "State of Palestine\n",
      "Syrian Arab Republic\n",
      "Türkiye\n",
      "United Arab Emirates\n",
      "Yemen\n",
      "EUROPE\n",
      "Eastern Europe\n",
      "Belarus\n",
      "Bulgaria\n",
      "Czechia\n",
      "Hungary\n",
      "Poland\n",
      "Republic of Moldova\n",
      "Romania\n",
      "Russian Federation\n",
      "Slovakia\n",
      "Ukraine\n",
      "Northern Europe\n",
      "Denmark\n",
      "Estonia\n",
      "Faroe Islands\n",
      "Finland\n",
      "Guernsey\n",
      "Iceland\n",
      "Ireland\n",
      "Isle of Man\n",
      "Jersey\n",
      "Latvia\n",
      "Lithuania\n",
      "Norway\n",
      "Sweden\n",
      "United Kingdom\n",
      "Southern Europe\n",
      "Albania\n",
      "Andorra\n",
      "Bosnia and Herzegovina\n",
      "Croatia\n",
      "Gibraltar\n",
      "Greece\n",
      "Holy See\n",
      "Italy\n",
      "Kosovo (under UNSC res. 1244)\n",
      "Malta\n",
      "Montenegro\n",
      "North Macedonia\n",
      "Portugal\n",
      "San Marino\n",
      "Serbia\n",
      "Slovenia\n",
      "Spain\n",
      "Western Europe\n",
      "Austria\n",
      "Belgium\n",
      "France\n",
      "Germany\n",
      "Liechtenstein\n",
      "Luxembourg\n",
      "Monaco\n",
      "Netherlands\n",
      "Switzerland\n",
      "LATIN AMERICA AND THE CARIBBEAN\n",
      "Caribbean\n",
      "Anguilla\n",
      "Antigua and Barbuda\n",
      "Aruba\n",
      "Bahamas\n",
      "Barbados\n",
      "Bonaire, Sint Eustatius and Saba\n",
      "British Virgin Islands\n",
      "Cayman Islands\n",
      "Cuba\n",
      "Curaçao\n",
      "Dominica\n",
      "Dominican Republic\n",
      "Grenada\n",
      "Guadeloupe\n",
      "Haiti\n",
      "Jamaica\n",
      "Martinique\n",
      "Montserrat\n",
      "Puerto Rico\n",
      "Saint Barthélemy\n",
      "Saint Kitts and Nevis\n",
      "Saint Lucia\n",
      "Saint Martin (French part)\n",
      "Saint Vincent and the Grenadines\n",
      "Sint Maarten (Dutch part)\n",
      "Trinidad and Tobago\n",
      "Turks and Caicos Islands\n",
      "United States Virgin Islands\n",
      "Central America\n",
      "Belize\n",
      "Costa Rica\n",
      "El Salvador\n",
      "Guatemala\n",
      "Honduras\n",
      "Mexico\n",
      "Nicaragua\n",
      "Panama\n",
      "South America\n",
      "Argentina\n",
      "Bolivia (Plurinational State of)\n",
      "Brazil\n",
      "Chile\n",
      "Colombia\n",
      "Ecuador\n",
      "Falkland Islands (Malvinas)\n",
      "French Guiana\n",
      "Guyana\n",
      "Paraguay\n",
      "Peru\n",
      "Suriname\n",
      "Uruguay\n",
      "Venezuela (Bolivarian Republic of)\n",
      "NORTHERN AMERICA\n",
      "Bermuda\n",
      "Canada\n",
      "Greenland\n",
      "Saint Pierre and Miquelon\n",
      "United States of America\n",
      "OCEANIA\n",
      "Australia\n",
      "New Zealand\n",
      "Melanesia\n",
      "Fiji\n",
      "New Caledonia\n",
      "Papua New Guinea\n",
      "Solomon Islands\n",
      "Vanuatu\n",
      "Micronesia\n",
      "Guam\n",
      "Kiribati\n",
      "Marshall Islands\n",
      "Micronesia (Fed. States of)\n",
      "Nauru\n",
      "Northern Mariana Islands\n",
      "Palau\n",
      "Polynesia\n",
      "American Samoa\n",
      "Cook Islands\n",
      "French Polynesia\n",
      "Niue\n",
      "Samoa\n",
      "Tokelau\n",
      "Tonga\n",
      "Tuvalu\n",
      "Wallis and Futuna Islands\n"
     ]
    }
   ],
   "source": [
    "unique_countries = twentyone['country and area'].unique()\n",
    "print(\"countries or areas:\")\n",
    "for country in unique_countries:\n",
    "    print(country)"
   ]
  },
  {
   "cell_type": "code",
   "execution_count": null,
   "id": "074cae9e",
   "metadata": {},
   "outputs": [],
   "source": []
  },
  {
   "cell_type": "code",
   "execution_count": 19,
   "id": "4643c42b",
   "metadata": {},
   "outputs": [],
   "source": [
    "total_pop= twentyone[twentyone['country and area'] == 'WORLD']"
   ]
  },
  {
   "cell_type": "code",
   "execution_count": 20,
   "id": "556968ab",
   "metadata": {},
   "outputs": [],
   "source": [
    "total_pop=total_pop[['Year', 'Total Population, as of 1 July (thousands)']]\n",
    "total_pop= total_pop[(total_pop['Year']  >= 1950) & (total_pop[\"Year\"] <= 2021)]"
   ]
  },
  {
   "cell_type": "code",
   "execution_count": 21,
   "id": "0e1b3534",
   "metadata": {},
   "outputs": [],
   "source": [
    "total_pop = total_pop.reset_index(drop=True)"
   ]
  },
  {
   "cell_type": "code",
   "execution_count": 22,
   "id": "803c60a5",
   "metadata": {},
   "outputs": [
    {
     "name": "stdout",
     "output_type": "stream",
     "text": [
      "      Year Total Population, as of 1 July (thousands)\n",
      "0   1950.0                                2499322.157\n",
      "1   1951.0                                 2543130.38\n",
      "2   1952.0                                2590270.899\n",
      "3   1953.0                                2640278.797\n",
      "4   1954.0                                2691979.339\n",
      "..     ...                                        ...\n",
      "67  2017.0                                7599822.404\n",
      "68  2018.0                                7683789.828\n",
      "69  2019.0                                7764951.032\n",
      "70  2020.0                                 7840952.88\n",
      "71  2021.0                                7909295.151\n",
      "\n",
      "[72 rows x 2 columns]\n"
     ]
    }
   ],
   "source": [
    "print(total_pop)"
   ]
  },
  {
   "cell_type": "code",
   "execution_count": 23,
   "id": "366b1fb1",
   "metadata": {},
   "outputs": [],
   "source": [
    "total_pop['Total Population, as of 1 July'] = total_pop['Total Population, as of 1 July (thousands)'] * 1000"
   ]
  },
  {
   "cell_type": "code",
   "execution_count": 25,
   "id": "b0d97912",
   "metadata": {},
   "outputs": [],
   "source": [
    "total_pop = total_pop.drop(columns=['Total Population, as of 1 July (thousands)'])"
   ]
  },
  {
   "cell_type": "code",
   "execution_count": 26,
   "id": "e8e0f19b",
   "metadata": {},
   "outputs": [
    {
     "name": "stdout",
     "output_type": "stream",
     "text": [
      "      Year Total Population, as of 1 July\n",
      "0   1950.0                   2499322157.0\n",
      "1   1951.0                   2543130380.0\n",
      "2   1952.0                   2590270899.0\n",
      "3   1953.0                   2640278797.0\n",
      "4   1954.0                   2691979339.0\n",
      "..     ...                            ...\n",
      "67  2017.0                   7599822404.0\n",
      "68  2018.0                   7683789828.0\n",
      "69  2019.0                   7764951032.0\n",
      "70  2020.0                   7840952880.0\n",
      "71  2021.0                   7909295151.0\n",
      "\n",
      "[72 rows x 2 columns]\n"
     ]
    }
   ],
   "source": [
    "print(total_pop)"
   ]
  },
  {
   "cell_type": "code",
   "execution_count": null,
   "id": "6a5a623d",
   "metadata": {},
   "outputs": [],
   "source": []
  },
  {
   "cell_type": "code",
   "execution_count": null,
   "id": "894e6247",
   "metadata": {},
   "outputs": [],
   "source": []
  },
  {
   "cell_type": "code",
   "execution_count": 29,
   "id": "3651c1f3",
   "metadata": {},
   "outputs": [
    {
     "data": {
      "image/png": "[encoded data removed]",
      "text/plain": [
       "<Figure size 1200x600 with 1 Axes>"
      ]
     },
     "metadata": {},
     "output_type": "display_data"
    }
   ],
   "source": [
    "plt.figure(figsize=(12,6))\n",
    "plt.plot(total_pop['Year'], total_pop['Total Population, as of 1 July'], marker='o')\n",
    "plt.title('World Population from 1950 to 2021')\n",
    "plt.xlabel('Year')\n",
    "plt.ylabel('Total Population (Millions)')\n",
    "plt.grid(True)\n",
    "plt.show()"
   ]
  },
  {
   "cell_type": "markdown",
   "id": "b6d5065d",
   "metadata": {},
   "source": [
    "#"
   ]
  },
  {
   "cell_type": "markdown",
   "id": "d1867d67",
   "metadata": {},
   "source": [
    "## Adding continent data to world pop graph"
   ]
  },
  {
   "cell_type": "code",
   "execution_count": 40,
   "id": "771af37f",
   "metadata": {},
   "outputs": [],
   "source": [
    "africa_pop = twentyone[twentyone['country and area'] == 'AFRICA']\n",
    "africa_pop = africa_pop[['Year', 'Total Population, as of 1 July (thousands)']]\n",
    "africa_pop = africa_pop[(africa_pop['Year'] >= 1950) & (africa_pop['Year'] <= 2021)]\n",
    "africa_pop = africa_pop.reset_index(drop=True)"
   ]
  },
  {
   "cell_type": "code",
   "execution_count": 41,
   "id": "400215fb",
   "metadata": {},
   "outputs": [],
   "source": [
    "africa_pop['Total Population, as of 1 July'] = africa_pop['Total Population, as of 1 July (thousands)'] * 1000"
   ]
  },
  {
   "cell_type": "code",
   "execution_count": 44,
   "id": "a2c12e0a",
   "metadata": {},
   "outputs": [],
   "source": [
    "#print(africa_pop)"
   ]
  },
  {
   "cell_type": "code",
   "execution_count": 50,
   "id": "95510186",
   "metadata": {},
   "outputs": [],
   "source": [
    "asia_pop = twentyone[twentyone['country and area'] == 'ASIA']\n",
    "asia_pop = asia_pop[['Year', 'Total Population, as of 1 July (thousands)']]\n",
    "asia_pop = asia_pop[(asia_pop['Year'] >= 1950) & (asia_pop['Year'] <= 2021)]\n",
    "asia_pop = asia_pop.reset_index(drop=True)\n",
    "asia_pop['Total Population, as of 1 July'] = asia_pop['Total Population, as of 1 July (thousands)'] * 1000"
   ]
  },
  {
   "cell_type": "code",
   "execution_count": 52,
   "id": "8f8c78f3",
   "metadata": {},
   "outputs": [],
   "source": [
    "#print(asia_pop)"
   ]
  },
  {
   "cell_type": "code",
   "execution_count": 55,
   "id": "a00932d5",
   "metadata": {},
   "outputs": [],
   "source": [
    "europe_pop = twentyone[twentyone['country and area'] == 'EUROPE']\n",
    "europe_pop = europe_pop[['Year', 'Total Population, as of 1 July (thousands)']]\n",
    "europe_pop = europe_pop[(europe_pop['Year'] >= 1950) & (europe_pop['Year'] <= 2021)]\n",
    "europe_pop = europe_pop.reset_index(drop=True)\n",
    "europe_pop['Total Population, as of 1 July'] = europe_pop['Total Population, as of 1 July (thousands)'] * 1000"
   ]
  },
  {
   "cell_type": "code",
   "execution_count": 58,
   "id": "a2787f1b",
   "metadata": {},
   "outputs": [],
   "source": [
    "#print(europe_pop)"
   ]
  },
  {
   "cell_type": "code",
   "execution_count": 64,
   "id": "243dfa98",
   "metadata": {},
   "outputs": [],
   "source": [
    "south_america_pop = twentyone[twentyone['country and area'] == 'South America']\n",
    "south_america_pop = south_america_pop[['Year', 'Total Population, as of 1 July (thousands)']]\n",
    "south_america_pop = south_america_pop[(south_america_pop['Year'] >= 1950) & (south_america_pop['Year'] <= 2021)]\n",
    "south_america_pop = south_america_pop.reset_index(drop=True)\n",
    "south_america_pop['Total Population, as of 1 July'] = south_america_pop['Total Population, as of 1 July (thousands)'] * 1000"
   ]
  },
  {
   "cell_type": "code",
   "execution_count": 66,
   "id": "2d5a964a",
   "metadata": {},
   "outputs": [],
   "source": [
    "#print(south_america_pop)"
   ]
  },
  {
   "cell_type": "code",
   "execution_count": 68,
   "id": "f14af55d",
   "metadata": {},
   "outputs": [],
   "source": [
    "north_america_pop = twentyone[twentyone['country and area'] == 'NORTHERN AMERICA']\n",
    "north_america_pop = north_america_pop[['Year', 'Total Population, as of 1 July (thousands)']]\n",
    "north_america_pop = north_america_pop[(north_america_pop['Year'] >= 1950) & (north_america_pop['Year'] <= 2021)]\n",
    "north_america_pop = north_america_pop.reset_index(drop=True)\n",
    "north_america_pop['Total Population, as of 1 July'] = north_america_pop['Total Population, as of 1 July (thousands)'] * 1000"
   ]
  },
  {
   "cell_type": "code",
   "execution_count": 70,
   "id": "f8dffa50",
   "metadata": {},
   "outputs": [],
   "source": [
    "#print(north_america_pop)"
   ]
  },
  {
   "cell_type": "code",
   "execution_count": 77,
   "id": "23c70776",
   "metadata": {},
   "outputs": [],
   "source": [
    "oceania_pop = twentyone[twentyone['country and area'] == 'OCEANIA']\n",
    "oceania_pop = oceania_pop[['Year', 'Total Population, as of 1 July (thousands)']]\n",
    "oceania_pop = oceania_pop[(oceania_pop['Year'] >= 1950) & (oceania_pop['Year'] <= 2021)]\n",
    "oceania_pop = oceania_pop.reset_index(drop=True)\n",
    "oceania_pop['Total Population, as of 1 July'] = oceania_pop['Total Population, as of 1 July (thousands)'] * 1000"
   ]
  },
  {
   "cell_type": "code",
   "execution_count": 80,
   "id": "bc90a458",
   "metadata": {},
   "outputs": [],
   "source": [
    "#print(oceania_pop)"
   ]
  },
  {
   "cell_type": "code",
   "execution_count": null,
   "id": "60e11fe9",
   "metadata": {},
   "outputs": [],
   "source": []
  },
  {
   "cell_type": "code",
   "execution_count": 81,
   "id": "798ae9eb",
   "metadata": {},
   "outputs": [
    {
     "data": {
      "image/png": "[encoded data removed]",
      "text/plain": [
       "<Figure size 1200x600 with 1 Axes>"
      ]
     },
     "metadata": {},
     "output_type": "display_data"
    }
   ],
   "source": [
    "plt.figure(figsize=(12, 6))\n",
    "plt.plot(total_pop['Year'], total_pop['Total Population, as of 1 July'] / 1_000_000, marker='o', label='World')\n",
    "plt.plot(africa_pop['Year'], africa_pop['Total Population, as of 1 July'] / 1_000_000, marker='x', label='Africa')\n",
    "plt.plot(asia_pop['Year'], asia_pop['Total Population, as of 1 July'] / 1_000_000, marker='x', label='Asia')\n",
    "plt.plot(europe_pop['Year'], europe_pop['Total Population, as of 1 July'] / 1_000_000, marker='x', label='Europe')\n",
    "plt.plot(south_america_pop['Year'], south_america_pop['Total Population, as of 1 July'] / 1_000_000, marker='x', label='South America')\n",
    "plt.plot(north_america_pop['Year'], north_america_pop['Total Population, as of 1 July'] / 1_000_000, marker='x', label='North America')\n",
    "plt.plot(oceania_pop['Year'], oceania_pop['Total Population, as of 1 July'] / 1_000_000, marker='x', label='Oceania')\n",
    "\n",
    "plt.title('Population from 1950 to 2021')\n",
    "plt.xlabel('Year')\n",
    "plt.ylabel('Total Population (Millions)')\n",
    "plt.legend()\n",
    "plt.grid(True)\n",
    "plt.show()"
   ]
  },
  {
   "cell_type": "code",
   "execution_count": null,
   "id": "116df40a",
   "metadata": {},
   "outputs": [],
   "source": []
  },
  {
   "cell_type": "code",
   "execution_count": null,
   "id": "1e6c4b90",
   "metadata": {},
   "outputs": [],
   "source": []
  },
  {
   "cell_type": "code",
   "execution_count": null,
   "id": "ae2d8757",
   "metadata": {},
   "outputs": [],
   "source": []
  },
  {
   "cell_type": "code",
   "execution_count": null,
   "id": "93c9e6ee",
   "metadata": {},
   "outputs": [],
   "source": []
  },
  {
   "cell_type": "code",
   "execution_count": null,
   "id": "4cb2df63",
   "metadata": {},
   "outputs": [],
   "source": []
  },
  {
   "cell_type": "code",
   "execution_count": null,
   "id": "242788fb",
   "metadata": {},
   "outputs": [],
   "source": []
  },
  {
   "cell_type": "code",
   "execution_count": null,
   "id": "86f333f9",
   "metadata": {},
   "outputs": [],
   "source": []
  },
  {
   "cell_type": "code",
   "execution_count": null,
   "id": "bc40a450",
   "metadata": {},
   "outputs": [],
   "source": []
  },
  {
   "cell_type": "code",
   "execution_count": null,
   "id": "432bd6ba",
   "metadata": {},
   "outputs": [],
   "source": []
  },
  {
   "cell_type": "code",
   "execution_count": null,
   "id": "da5af31a",
   "metadata": {},
   "outputs": [],
   "source": []
  },
  {
   "cell_type": "markdown",
   "id": "3c5755bf",
   "metadata": {},
   "source": [
    "## \tWhich countries have the highest and lowest fertility rates?"
   ]
  },
  {
   "cell_type": "code",
   "execution_count": null,
   "id": "cd29930c",
   "metadata": {},
   "outputs": [],
   "source": []
  },
  {
   "cell_type": "code",
   "execution_count": null,
   "id": "20e6f931",
   "metadata": {},
   "outputs": [],
   "source": []
  },
  {
   "cell_type": "code",
   "execution_count": null,
   "id": "521cfe4b",
   "metadata": {},
   "outputs": [],
   "source": []
  },
  {
   "cell_type": "markdown",
   "id": "bc3a5afa",
   "metadata": {},
   "source": [
    "## How have global fertility rates changed over the past few decades?"
   ]
  },
  {
   "cell_type": "code",
   "execution_count": null,
   "id": "88939ae3",
   "metadata": {},
   "outputs": [],
   "source": []
  },
  {
   "cell_type": "code",
   "execution_count": null,
   "id": "51af4e5f",
   "metadata": {},
   "outputs": [],
   "source": []
  },
  {
   "cell_type": "code",
   "execution_count": null,
   "id": "f7c80186",
   "metadata": {},
   "outputs": [],
   "source": []
  },
  {
   "cell_type": "code",
   "execution_count": null,
   "id": "38eb6cbf",
   "metadata": {},
   "outputs": [],
   "source": []
  },
  {
   "cell_type": "code",
   "execution_count": null,
   "id": "d022d666",
   "metadata": {},
   "outputs": [],
   "source": []
  },
  {
   "cell_type": "code",
   "execution_count": null,
   "id": "1057b7ee",
   "metadata": {},
   "outputs": [],
   "source": []
  },
  {
   "cell_type": "markdown",
   "id": "6e42d8b7",
   "metadata": {},
   "source": [
    "## \tWhat are current global average fertility rates, and how do they compare to historical data?"
   ]
  },
  {
   "cell_type": "code",
   "execution_count": null,
   "id": "a1195c7a",
   "metadata": {},
   "outputs": [],
   "source": []
  },
  {
   "cell_type": "code",
   "execution_count": null,
   "id": "920dde61",
   "metadata": {},
   "outputs": [],
   "source": []
  },
  {
   "cell_type": "code",
   "execution_count": null,
   "id": "569922aa",
   "metadata": {},
   "outputs": [],
   "source": []
  },
  {
   "cell_type": "code",
   "execution_count": null,
   "id": "7de08d56",
   "metadata": {},
   "outputs": [],
   "source": []
  },
  {
   "cell_type": "code",
   "execution_count": null,
   "id": "92e1e9e7",
   "metadata": {},
   "outputs": [],
   "source": []
  },
  {
   "cell_type": "markdown",
   "id": "a6a98f9b",
   "metadata": {},
   "source": [
    "## How do fertility rates differ across various regions?"
   ]
  },
  {
   "cell_type": "code",
   "execution_count": null,
   "id": "f085afb5",
   "metadata": {},
   "outputs": [],
   "source": []
  },
  {
   "cell_type": "code",
   "execution_count": null,
   "id": "44cbebbd",
   "metadata": {},
   "outputs": [],
   "source": []
  },
  {
   "cell_type": "code",
   "execution_count": null,
   "id": "96b5afe5",
   "metadata": {},
   "outputs": [],
   "source": []
  },
  {
   "cell_type": "code",
   "execution_count": null,
   "id": "8bc0200c",
   "metadata": {},
   "outputs": [],
   "source": []
  },
  {
   "cell_type": "code",
   "execution_count": null,
   "id": "ae09d031",
   "metadata": {},
   "outputs": [],
   "source": []
  },
  {
   "cell_type": "markdown",
   "id": "bc3454cb",
   "metadata": {},
   "source": [
    "## What regions have the highest and lowest fertility rates, and what might explain these differences?"
   ]
  },
  {
   "cell_type": "code",
   "execution_count": null,
   "id": "063701d9",
   "metadata": {},
   "outputs": [],
   "source": []
  },
  {
   "cell_type": "code",
   "execution_count": null,
   "id": "e64d60b1",
   "metadata": {},
   "outputs": [],
   "source": []
  },
  {
   "cell_type": "code",
   "execution_count": null,
   "id": "ef4ca655",
   "metadata": {},
   "outputs": [],
   "source": []
  },
  {
   "cell_type": "code",
   "execution_count": null,
   "id": "bc16d458",
   "metadata": {},
   "outputs": [],
   "source": []
  },
  {
   "cell_type": "code",
   "execution_count": null,
   "id": "435112b0",
   "metadata": {},
   "outputs": [],
   "source": []
  },
  {
   "cell_type": "code",
   "execution_count": null,
   "id": "afa3fbb3",
   "metadata": {},
   "outputs": [],
   "source": []
  },
  {
   "cell_type": "markdown",
   "id": "83de15cb",
   "metadata": {},
   "source": [
    "## \tHow has birth rates change over time in the United States and other countries. "
   ]
  },
  {
   "cell_type": "code",
   "execution_count": null,
   "id": "f56812fb",
   "metadata": {},
   "outputs": [],
   "source": []
  },
  {
   "cell_type": "code",
   "execution_count": null,
   "id": "9e1b8362",
   "metadata": {},
   "outputs": [],
   "source": []
  },
  {
   "cell_type": "code",
   "execution_count": null,
   "id": "36048848",
   "metadata": {},
   "outputs": [],
   "source": []
  },
  {
   "cell_type": "code",
   "execution_count": null,
   "id": "66f75fe9",
   "metadata": {},
   "outputs": [],
   "source": []
  },
  {
   "cell_type": "code",
   "execution_count": null,
   "id": "f95444c7",
   "metadata": {},
   "outputs": [],
   "source": []
  },
  {
   "cell_type": "code",
   "execution_count": null,
   "id": "07a3598b",
   "metadata": {},
   "outputs": [],
   "source": []
  },
  {
   "cell_type": "markdown",
   "id": "55122f57",
   "metadata": {},
   "source": [
    "## \tIs there a correlation between a country's GDP per capita and its fertility rate?"
   ]
  },
  {
   "cell_type": "code",
   "execution_count": null,
   "id": "40df7e6f",
   "metadata": {},
   "outputs": [],
   "source": []
  },
  {
   "cell_type": "code",
   "execution_count": null,
   "id": "c72d4884",
   "metadata": {},
   "outputs": [],
   "source": []
  },
  {
   "cell_type": "code",
   "execution_count": null,
   "id": "31338f6b",
   "metadata": {},
   "outputs": [],
   "source": []
  },
  {
   "cell_type": "code",
   "execution_count": null,
   "id": "efcf0041",
   "metadata": {},
   "outputs": [],
   "source": []
  },
  {
   "cell_type": "code",
   "execution_count": null,
   "id": "f1b5e4e6",
   "metadata": {},
   "outputs": [],
   "source": []
  },
  {
   "cell_type": "markdown",
   "id": "6cb02bdd",
   "metadata": {},
   "source": [
    "## \tHow do factors such as women's education levels, employment rates, and access to healthcare impact fertility rates?"
   ]
  },
  {
   "cell_type": "code",
   "execution_count": null,
   "id": "d78971b1",
   "metadata": {},
   "outputs": [],
   "source": []
  },
  {
   "cell_type": "code",
   "execution_count": null,
   "id": "5f86bc06",
   "metadata": {},
   "outputs": [],
   "source": []
  },
  {
   "cell_type": "code",
   "execution_count": null,
   "id": "58a83a66",
   "metadata": {},
   "outputs": [],
   "source": []
  },
  {
   "cell_type": "code",
   "execution_count": null,
   "id": "370bebab",
   "metadata": {},
   "outputs": [],
   "source": []
  },
  {
   "cell_type": "code",
   "execution_count": null,
   "id": "1679b1cf",
   "metadata": {},
   "outputs": [],
   "source": []
  },
  {
   "cell_type": "code",
   "execution_count": null,
   "id": "9ee58109",
   "metadata": {},
   "outputs": [],
   "source": []
  },
  {
   "cell_type": "markdown",
   "id": "2d1b15aa",
   "metadata": {},
   "source": [
    "## \tWhat role do cultural and religious practices play in influencing fertility rates?"
   ]
  },
  {
   "cell_type": "code",
   "execution_count": null,
   "id": "a9ad8402",
   "metadata": {},
   "outputs": [],
   "source": []
  },
  {
   "cell_type": "code",
   "execution_count": null,
   "id": "6ada0472",
   "metadata": {},
   "outputs": [],
   "source": []
  },
  {
   "cell_type": "code",
   "execution_count": null,
   "id": "35f5928a",
   "metadata": {},
   "outputs": [],
   "source": []
  },
  {
   "cell_type": "code",
   "execution_count": null,
   "id": "49b2c47e",
   "metadata": {},
   "outputs": [],
   "source": []
  },
  {
   "cell_type": "code",
   "execution_count": null,
   "id": "159cc513",
   "metadata": {},
   "outputs": [],
   "source": []
  },
  {
   "cell_type": "code",
   "execution_count": null,
   "id": "303dc5b5",
   "metadata": {},
   "outputs": [],
   "source": []
  },
  {
   "cell_type": "markdown",
   "id": "0ea1c6bc",
   "metadata": {},
   "source": [
    "## \tHow do fertility rates differ between urban and rural areas within countries?"
   ]
  },
  {
   "cell_type": "code",
   "execution_count": null,
   "id": "541b738d",
   "metadata": {},
   "outputs": [],
   "source": []
  },
  {
   "cell_type": "code",
   "execution_count": null,
   "id": "af81e5d4",
   "metadata": {},
   "outputs": [],
   "source": []
  },
  {
   "cell_type": "code",
   "execution_count": null,
   "id": "25a0a8e5",
   "metadata": {},
   "outputs": [],
   "source": []
  },
  {
   "cell_type": "code",
   "execution_count": null,
   "id": "9c8ba2ba",
   "metadata": {},
   "outputs": [],
   "source": []
  },
  {
   "cell_type": "code",
   "execution_count": null,
   "id": "a7023c84",
   "metadata": {},
   "outputs": [],
   "source": []
  },
  {
   "cell_type": "code",
   "execution_count": null,
   "id": "ccf542f7",
   "metadata": {},
   "outputs": [],
   "source": []
  },
  {
   "cell_type": "code",
   "execution_count": null,
   "id": "6b1af551",
   "metadata": {},
   "outputs": [],
   "source": []
  },
  {
   "cell_type": "code",
   "execution_count": null,
   "id": "b45960bc",
   "metadata": {},
   "outputs": [],
   "source": []
  },
  {
   "cell_type": "markdown",
   "id": "054657ac",
   "metadata": {},
   "source": [
    "## How have birth rates and fertility rates changed in regions or countries following the implementation of specific government policies"
   ]
  },
  {
   "cell_type": "code",
   "execution_count": null,
   "id": "a92b5070",
   "metadata": {},
   "outputs": [],
   "source": []
  },
  {
   "cell_type": "code",
   "execution_count": null,
   "id": "1fcc95d8",
   "metadata": {},
   "outputs": [],
   "source": []
  },
  {
   "cell_type": "code",
   "execution_count": null,
   "id": "3db1ee22",
   "metadata": {},
   "outputs": [],
   "source": []
  },
  {
   "cell_type": "code",
   "execution_count": null,
   "id": "75322c9d",
   "metadata": {},
   "outputs": [],
   "source": []
  },
  {
   "cell_type": "markdown",
   "id": "3ebed255",
   "metadata": {},
   "source": [
    "## \tHow do changes in fertility rates impact population growth and demographic structures (e.g., aging populations)?"
   ]
  },
  {
   "cell_type": "code",
   "execution_count": null,
   "id": "c620d4b5",
   "metadata": {},
   "outputs": [],
   "source": []
  },
  {
   "cell_type": "code",
   "execution_count": null,
   "id": "47368b1d",
   "metadata": {},
   "outputs": [],
   "source": []
  },
  {
   "cell_type": "code",
   "execution_count": null,
   "id": "d03b8713",
   "metadata": {},
   "outputs": [],
   "source": []
  },
  {
   "cell_type": "code",
   "execution_count": null,
   "id": "cea91acd",
   "metadata": {},
   "outputs": [],
   "source": []
  },
  {
   "cell_type": "code",
   "execution_count": null,
   "id": "88947502",
   "metadata": {},
   "outputs": [],
   "source": []
  },
  {
   "cell_type": "markdown",
   "id": "c6070c1e",
   "metadata": {},
   "source": [
    "## \tHow do birth and fertility rates in countries with similar economic and social conditions but different policies compare?"
   ]
  },
  {
   "cell_type": "code",
   "execution_count": null,
   "id": "4b7a6ba2",
   "metadata": {},
   "outputs": [],
   "source": []
  },
  {
   "cell_type": "code",
   "execution_count": null,
   "id": "170fa296",
   "metadata": {},
   "outputs": [],
   "source": []
  },
  {
   "cell_type": "code",
   "execution_count": null,
   "id": "3b94f6ef",
   "metadata": {},
   "outputs": [],
   "source": []
  },
  {
   "cell_type": "code",
   "execution_count": null,
   "id": "73227ce6",
   "metadata": {},
   "outputs": [],
   "source": []
  },
  {
   "cell_type": "markdown",
   "id": "6e7af0f1",
   "metadata": {},
   "source": [
    "## \tWhat are the potential social and economic consequences of low or high fertility rates?"
   ]
  },
  {
   "cell_type": "code",
   "execution_count": null,
   "id": "d22c80d5",
   "metadata": {},
   "outputs": [],
   "source": []
  },
  {
   "cell_type": "code",
   "execution_count": null,
   "id": "bda7cd05",
   "metadata": {},
   "outputs": [],
   "source": []
  },
  {
   "cell_type": "code",
   "execution_count": null,
   "id": "722f3dde",
   "metadata": {},
   "outputs": [],
   "source": []
  },
  {
   "cell_type": "code",
   "execution_count": null,
   "id": "9f7aff4d",
   "metadata": {},
   "outputs": [],
   "source": []
  },
  {
   "cell_type": "code",
   "execution_count": null,
   "id": "3673a122",
   "metadata": {},
   "outputs": [],
   "source": []
  },
  {
   "cell_type": "code",
   "execution_count": null,
   "id": "5183c448",
   "metadata": {},
   "outputs": [],
   "source": []
  },
  {
   "cell_type": "code",
   "execution_count": null,
   "id": "f15f4be2",
   "metadata": {},
   "outputs": [],
   "source": []
  },
  {
   "cell_type": "markdown",
   "id": "2192df50",
   "metadata": {},
   "source": [
    "## \tWhat are some of the main barriers preventing couples from deciding on having children or the number of children they plan on having"
   ]
  },
  {
   "cell_type": "code",
   "execution_count": null,
   "id": "ea39aa29",
   "metadata": {},
   "outputs": [],
   "source": []
  },
  {
   "cell_type": "code",
   "execution_count": null,
   "id": "81675d6b",
   "metadata": {},
   "outputs": [],
   "source": []
  },
  {
   "cell_type": "code",
   "execution_count": null,
   "id": "8f4ddb8e",
   "metadata": {},
   "outputs": [],
   "source": []
  },
  {
   "cell_type": "code",
   "execution_count": null,
   "id": "7237714d",
   "metadata": {},
   "outputs": [],
   "source": []
  },
  {
   "cell_type": "code",
   "execution_count": null,
   "id": "1fb0823a",
   "metadata": {},
   "outputs": [],
   "source": []
  },
  {
   "cell_type": "markdown",
   "id": "a28ea434",
   "metadata": {},
   "source": [
    "## \tHow have government policies (e.g., family planning programs, parental leave, child benefits) affected fertility rates in different countries?"
   ]
  },
  {
   "cell_type": "code",
   "execution_count": null,
   "id": "943004a3",
   "metadata": {},
   "outputs": [],
   "source": []
  },
  {
   "cell_type": "code",
   "execution_count": null,
   "id": "2dae2676",
   "metadata": {},
   "outputs": [],
   "source": []
  },
  {
   "cell_type": "code",
   "execution_count": null,
   "id": "48103625",
   "metadata": {},
   "outputs": [],
   "source": []
  },
  {
   "cell_type": "markdown",
   "id": "226685ce",
   "metadata": {},
   "source": [
    "## \tAre there examples of successful policies that have either increased or decreased fertility rates?"
   ]
  },
  {
   "cell_type": "code",
   "execution_count": null,
   "id": "9cf4ca1d",
   "metadata": {},
   "outputs": [],
   "source": []
  },
  {
   "cell_type": "code",
   "execution_count": null,
   "id": "db417dd8",
   "metadata": {},
   "outputs": [],
   "source": []
  },
  {
   "cell_type": "code",
   "execution_count": null,
   "id": "6dcaa260",
   "metadata": {},
   "outputs": [],
   "source": []
  },
  {
   "cell_type": "code",
   "execution_count": null,
   "id": "36221380",
   "metadata": {},
   "outputs": [],
   "source": []
  },
  {
   "cell_type": "code",
   "execution_count": null,
   "id": "7644298e",
   "metadata": {},
   "outputs": [],
   "source": []
  }
 ],
 "metadata": {
  "kernelspec": {
   "display_name": "Python 3 (ipykernel)",
   "language": "python",
   "name": "python3"
  },
  "language_info": {
   "codemirror_mode": {
    "name": "ipython",
    "version": 3
   },
   "file_extension": ".py",
   "mimetype": "text/x-python",
   "name": "python",
   "nbconvert_exporter": "python",
   "pygments_lexer": "ipython3",
   "version": "3.11.7"
  }
 },
 "nbformat": 4,
 "nbformat_minor": 5
}
